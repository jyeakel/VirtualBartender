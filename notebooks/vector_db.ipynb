{
 "cells": [
  {
   "cell_type": "markdown",
   "metadata": {},
   "source": [
    "# Vector Database Operations with pgvector"
   ]
  },
  {
   "cell_type": "code",
   "execution_count": 3,
   "metadata": {},
   "outputs": [],
   "source": [
    "import os\n",
    "import psycopg2\n",
    "from docarray import BaseDoc, DocList\n",
    "from docarray.typing import NdArray\n",
    "from langchain_openai import OpenAIEmbeddings\n",
    "from dotenv import load_dotenv\n",
    "from pgvector.psycopg2 import register_vector\n",
    "\n",
    "\n",
    "# Load environment variables from the .env file\n",
    "load_dotenv()\n",
    "\n",
    "# Database connection\n",
    "DATABASE_URL = os.environ['DATABASE_URL']\n",
    "conn = psycopg2.connect(DATABASE_URL)\n",
    "register_vector(conn)\n",
    "cur = conn.cursor()"
   ]
  },
  {
   "cell_type": "code",
   "execution_count": 76,
   "metadata": {},
   "outputs": [],
   "source": [
    "# rollback db transaction if error occurs\n",
    "#conn.rollback()"
   ]
  },
  {
   "cell_type": "code",
   "execution_count": 22,
   "metadata": {},
   "outputs": [],
   "source": [
    "# Query drink data from drink tables\n",
    "\n",
    "cur.execute(\"\"\"\n",
    "SELECT \n",
    "  d.id AS drink_id,\n",
    "  d.name AS drink_name,\n",
    "  STRING_AGG(DISTINCT t.name, ', ') AS tags,\n",
    "  STRING_AGG(DISTINCT i.name, ', ') AS ingredients\n",
    "FROM drinks d\n",
    "LEFT JOIN drink_tags dt ON d.id = dt.drink_id\n",
    "LEFT JOIN tags t ON dt.tag_id = t.id\n",
    "LEFT JOIN drink_ingredients di ON d.id = di.drink_id\n",
    "LEFT JOIN ingredients i ON di.ingredient_id = i.id\n",
    "WHERE d.reference like 'http%'\n",
    "GROUP BY d.id, d.name\n",
    "ORDER BY d.name\n",
    "\"\"\")\n",
    "drinks_query_res = cur.fetchall()"
   ]
  },
  {
   "cell_type": "code",
   "execution_count": null,
   "metadata": {},
   "outputs": [],
   "source": [
    "\n",
    "# Create a list of drink objects\n",
    "for d in drinks_query_res:\n",
    "    drinks = [{\n",
    "        \"drink_id\": int(d[0]),\n",
    "        \"drink_name\": d[1],\n",
    "        \"ingredients\": d[2],\n",
    "        \"tags\": d[3],\n",
    "        \"drink_description\": f\"{d[1]}: a {d[2]} cocktail made with {d[3]}\"\n",
    "        } \n",
    "        for d in drinks_query_res]"
   ]
  },
  {
   "cell_type": "code",
   "execution_count": 7,
   "metadata": {},
   "outputs": [],
   "source": [
    "# Define vector db schema\n",
    "class DrinkDoc(BaseDoc):\n",
    "    drink_id: int\n",
    "    drink_name: str\n",
    "    ingredients: str\n",
    "    tags: str\n",
    "    embedding: NdArray[1536]\n",
    "\n",
    "\n",
    "embeddings = OpenAIEmbeddings()\n",
    "\n",
    "# # Embed description and create documents\n",
    "# docs = DocList[DrinkDoc](\n",
    "#     DrinkDoc(\n",
    "#         drink_id=drink[\"drink_id\"],\n",
    "#         drink_name=drink[\"drink_name\"],\n",
    "#         ingredients=drink[\"ingredients\"],\n",
    "#         tags=drink[\"tags\"],\n",
    "#         embedding=embeddings.embed_query(drink['drink_description']),        \n",
    "#     )\n",
    "#     for drink in drinks\n",
    "# )"
   ]
  },
  {
   "cell_type": "code",
   "execution_count": 55,
   "metadata": {},
   "outputs": [],
   "source": [
    "# Create vector table in database\n",
    "create_table_command = \"\"\"\n",
    "CREATE TABLE embeddings (\n",
    "    id bigserial primary key,\n",
    "    drink_id integer unique not null,\n",
    "    drink_name text unique not null,\n",
    "    ingredients text,\n",
    "    tags text,\n",
    "    embedding vector(1536)\n",
    ");\n",
    "\"\"\"\n",
    "# Execute the SQL command\n",
    "cur.execute(create_table_command)\n",
    "# Commit the transaction\n",
    "conn.commit()"
   ]
  },
  {
   "cell_type": "code",
   "execution_count": null,
   "metadata": {},
   "outputs": [],
   "source": [
    "\n",
    "# Store documents with embeddings in the database\n",
    "for doc in docs:\n",
    "    # Insert embedding into database\n",
    "    cur.execute(\"\"\"\n",
    "        INSERT INTO embeddings (drink_id, drink_name, ingredients, tags, embedding)\n",
    "        VALUES (%s, %s, %s, %s, %s)\n",
    "        ON CONFLICT (drink_id) DO UPDATE\n",
    "        SET embedding = EXCLUDED.embedding\n",
    "    \"\"\", (doc.drink_id, doc.drink_name, doc.ingredients, doc.tags, doc.embedding))\n",
    "    \n",
    "conn.commit()"
   ]
  },
  {
   "cell_type": "code",
   "execution_count": 12,
   "metadata": {},
   "outputs": [],
   "source": [
    "# Example similarity search\n",
    "# <-> - L2 distance\n",
    "# <#> - (negative) inner product\n",
    "# <=> - cosine distance\n",
    "# <+> - L1 distance\n",
    "# <~> - Hamming distance (binary vectors)\n",
    "# <%> - Jaccard distance (binary vectors)\n",
    "def find_similar_drinks(query_text: str, limit: int = 10):\n",
    "    query_embedding = embeddings.embed_query(query_text)\n",
    "    \n",
    "    cur.execute(\"\"\"\n",
    "        SELECT d.name, e.embedding <=> %s::vector as distance\n",
    "        FROM embeddings e\n",
    "        JOIN drinks d ON d.id = e.drink_id\n",
    "        ORDER BY distance\n",
    "        LIMIT %s\n",
    "    \"\"\", (query_embedding, limit))\n",
    "    \n",
    "    return cur.fetchall()"
   ]
  },
  {
   "cell_type": "code",
   "execution_count": 15,
   "metadata": {},
   "outputs": [
    {
     "name": "stdout",
     "output_type": "stream",
     "text": [
      "Similar drinks: [('Dark and Moody', 0.12498629093170166), ('Bitter, Bitter, Bitter, Bitter', 0.12500778958270709), ('Bitter Tears', 0.12643039226531982)]\n"
     ]
    }
   ],
   "source": [
    "# Test similarity search\n",
    "similar_drinks = find_similar_drinks(\"Ingredients: bitter, strong alcohol taste, gin, herbal Mood: frustrated, party\", limit=3)\n",
    "print(\"Similar drinks:\", similar_drinks)"
   ]
  },
  {
   "cell_type": "code",
   "execution_count": 100,
   "metadata": {},
   "outputs": [],
   "source": [
    "# Clean up\n",
    "cur.close()\n",
    "conn.close()"
   ]
  }
 ],
 "metadata": {
  "kernelspec": {
   "display_name": ".venv",
   "language": "python",
   "name": "python3"
  },
  "language_info": {
   "codemirror_mode": {
    "name": "ipython",
    "version": 3
   },
   "file_extension": ".py",
   "mimetype": "text/x-python",
   "name": "python",
   "nbconvert_exporter": "python",
   "pygments_lexer": "ipython3",
   "version": "3.13.1"
  }
 },
 "nbformat": 4,
 "nbformat_minor": 2
}
