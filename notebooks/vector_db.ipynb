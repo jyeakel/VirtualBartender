{
 "cells": [
  {
   "cell_type": "markdown",
   "metadata": {},
   "source": [
    "# Vector Database Operations with pgvector"
   ]
  },
  {
   "cell_type": "code",
   "execution_count": 2,
   "metadata": {},
   "outputs": [],
   "source": [
    "import os\n",
    "import psycopg2\n",
    "from docarray import BaseDoc, DocList\n",
    "from docarray.typing import NdArray\n",
    "from langchain_openai import OpenAIEmbeddings\n",
    "from dotenv import load_dotenv\n",
    "from pgvector.psycopg2 import register_vector\n",
    "\n",
    "\n",
    "# Load environment variables from the .env file\n",
    "load_dotenv()\n",
    "\n",
    "# Database connection\n",
    "DATABASE_URL = os.environ[\"DATABASE_URL\"]\n",
    "conn = psycopg2.connect(DATABASE_URL)\n",
    "register_vector(conn)\n",
    "cur = conn.cursor()"
   ]
  },
  {
   "cell_type": "code",
   "execution_count": null,
   "metadata": {},
   "outputs": [],
   "source": [
    "# Rollback db transaction if error occurs\n",
    "conn.rollback()"
   ]
  },
  {
   "cell_type": "code",
   "execution_count": 3,
   "metadata": {},
   "outputs": [],
   "source": [
    "# Query drink data from drink tables\n",
    "cur.execute(\"\"\"\n",
    "SELECT \n",
    "  d.id AS drink_id,\n",
    "  d.name AS drink_name,\n",
    "  STRING_AGG(DISTINCT t.name, ', ') AS tags,\n",
    "  STRING_AGG(DISTINCT i.name, ', ') AS ingredients\n",
    "FROM drinks d\n",
    "LEFT JOIN drink_tags dt ON d.id = dt.drink_id\n",
    "LEFT JOIN tags t ON dt.tag_id = t.id\n",
    "LEFT JOIN drink_ingredients di ON d.id = di.drink_id\n",
    "LEFT JOIN ingredients i ON di.ingredient_id = i.id\n",
    "WHERE d.reference like 'http%'\n",
    "GROUP BY d.id, d.name\n",
    "ORDER BY d.name\n",
    "\"\"\")\n",
    "drinks_query_res = cur.fetchall()"
   ]
  },
  {
   "cell_type": "code",
   "execution_count": 4,
   "metadata": {},
   "outputs": [
    {
     "name": "stdout",
     "output_type": "stream",
     "text": [
      "(315, '(Beware the) Pink Slip', 'aromatic, herbal, spicy, zesty', 'absinthe rouge, dry vermouth, gin, ginger liqueur, honey, lime')\n",
      "(3185, '(Twice) Improved Whiskey Sour', 'aromatic, rich, smooth, tart', 'bitters, egg white, honey syrup, lemon juice, lemon peel, lime juice, maraschino liqueur, rye')\n",
      "(1433, '(the) Hinges', 'aromatic, bitter, bold, herbal', 'campari, gin, herbal liqueur, irish whiskey, orange bitters, sweet vermouth')\n",
      "(18, '100-Year-Old Cigar', 'aromatic, bitter, rich, smoky', 'absinthe, añejo rum, bitters, bénédictine, cynar, islay scotch')\n",
      "(15, '15 Second Punch', 'bitter, floral, vibrant, zesty', 'campari, elderflower liqueur, gin, grapefruit juice, lemon juice')\n"
     ]
    }
   ],
   "source": [
    "# Verify query result is as expected\n",
    "for d in drinks_query_res[:5]:\n",
    "    print(d)"
   ]
  },
  {
   "cell_type": "code",
   "execution_count": 11,
   "metadata": {},
   "outputs": [],
   "source": [
    "# Create a list of drink objects\n",
    "drinks = [\n",
    "    {\n",
    "        \"drink_id\": int(d[0]),\n",
    "        \"drink_name\": d[1],\n",
    "        \"ingredients\": d[3],\n",
    "        \"tags\": d[2],\n",
    "        \"drink_description\": f\"{d[1]}: a {d[2]} cocktail made with {d[3]}\",\n",
    "    }\n",
    "    for d in drinks_query_res\n",
    "]"
   ]
  },
  {
   "cell_type": "code",
   "execution_count": null,
   "metadata": {},
   "outputs": [],
   "source": [
    "embeddings = OpenAIEmbeddings()\n",
    "\n",
    "\n",
    "# Define vector db schema\n",
    "class DrinkDoc(BaseDoc):\n",
    "    drink_id: int\n",
    "    drink_name: str\n",
    "    ingredients: str\n",
    "    tags: str\n",
    "    embedding: NdArray[1536]\n",
    "\n",
    "\n",
    "# Embed description and create documents\n",
    "docs = DocList[DrinkDoc](\n",
    "    DrinkDoc(\n",
    "        drink_id=drink[\"drink_id\"],\n",
    "        drink_name=drink[\"drink_name\"],\n",
    "        ingredients=drink[\"ingredients\"],\n",
    "        tags=drink[\"tags\"],\n",
    "        embedding=embeddings.embed_query(drink[\"drink_description\"]),\n",
    "    )\n",
    "    for drink in drinks\n",
    ")"
   ]
  },
  {
   "cell_type": "code",
   "execution_count": null,
   "metadata": {},
   "outputs": [],
   "source": [
    "# Create vector table in database\n",
    "create_table_command = \"\"\"\n",
    "CREATE TABLE embeddings (\n",
    "    id bigserial primary key,\n",
    "    drink_id integer unique not null,\n",
    "    drink_name text unique not null,\n",
    "    ingredients text,\n",
    "    tags text,\n",
    "    embedding vector(1536)\n",
    ");\n",
    "\"\"\"\n",
    "\n",
    "# Execute the SQL command\n",
    "cur.execute(create_table_command)\n",
    "\n",
    "# Commit the transaction\n",
    "conn.commit()"
   ]
  },
  {
   "cell_type": "code",
   "execution_count": null,
   "metadata": {},
   "outputs": [],
   "source": [
    "# Store documents with embeddings in the database\n",
    "for doc in docs:\n",
    "    # Insert embedding into database\n",
    "    cur.execute(\n",
    "        \"\"\"\n",
    "        INSERT INTO embeddings (drink_id, drink_name, ingredients, tags, embedding)\n",
    "        VALUES (%s, %s, %s, %s, %s)\n",
    "        ON CONFLICT (drink_id) DO UPDATE\n",
    "        SET embedding = EXCLUDED.embedding\n",
    "    \"\"\",\n",
    "        (doc.drink_id, doc.drink_name, doc.ingredients, doc.tags, doc.embedding),\n",
    "    )\n",
    "\n",
    "conn.commit()"
   ]
  },
  {
   "cell_type": "code",
   "execution_count": 32,
   "metadata": {},
   "outputs": [],
   "source": [
    "# Example similarity search\n",
    "# <-> - L2 distance\n",
    "# <=> - cosine distance\n",
    "# <+> - L1 distance\n",
    "def find_similar_drinks(query_text: str, limit: int = 10):\n",
    "    query_embedding = embeddings.embed_query(query_text)\n",
    "\n",
    "    cur.execute(\n",
    "        \"\"\"\n",
    "        SELECT d.name, e.embedding <=> %s::vector as distance\n",
    "        FROM embeddings e\n",
    "        JOIN drinks d ON d.id = e.drink_id\n",
    "        ORDER BY distance\n",
    "        LIMIT %s\n",
    "    \"\"\",\n",
    "        (query_embedding, limit),\n",
    "    )\n",
    "\n",
    "    return cur.fetchall()"
   ]
  },
  {
   "cell_type": "code",
   "execution_count": 37,
   "metadata": {},
   "outputs": [
    {
     "name": "stdout",
     "output_type": "stream",
     "text": [
      "Similar drinks: [('Holidays Away', 0.13440680503845215), ('Campbeltown', 0.14333091457713065), ('Traveling Scotsman', 0.14390814304351807)]\n"
     ]
    }
   ],
   "source": [
    "# Test similarity search\n",
    "similar_drinks = find_similar_drinks(\n",
    "    \"Ingredients: sweet, whisky, herbal Mood: celebratory, party\",\n",
    "    limit=3,\n",
    ")\n",
    "print(\"Similar drinks:\", similar_drinks)"
   ]
  },
  {
   "cell_type": "code",
   "execution_count": 100,
   "metadata": {},
   "outputs": [],
   "source": [
    "# Clean up\n",
    "cur.close()\n",
    "conn.close()"
   ]
  }
 ],
 "metadata": {
  "kernelspec": {
   "display_name": ".venv",
   "language": "python",
   "name": "python3"
  },
  "language_info": {
   "codemirror_mode": {
    "name": "ipython",
    "version": 3
   },
   "file_extension": ".py",
   "mimetype": "text/x-python",
   "name": "python",
   "nbconvert_exporter": "python",
   "pygments_lexer": "ipython3",
   "version": "3.13.1"
  }
 },
 "nbformat": 4,
 "nbformat_minor": 2
}
